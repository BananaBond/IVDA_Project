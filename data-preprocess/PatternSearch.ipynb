{
 "cells": [
  {
   "cell_type": "code",
   "execution_count": 65,
   "id": "a1041146",
   "metadata": {},
   "outputs": [],
   "source": [
    "import pandas as pd\n",
    "import matplotlib.pyplot as plt\n",
    "from datetime import datetime\n",
    "import numpy as np\n",
    "import os\n"
   ]
  },
  {
   "cell_type": "markdown",
   "id": "eef74e2a",
   "metadata": {},
   "source": [
    "import the notebook and use the following functions\n",
    "\n",
    "results = search_pattern_in_data(pattern, patient_type = \"all\")\n",
    "<!--     pattern = list or pandas series of type int -->\n",
    "find_best_n_matches(results, n)\n"
   ]
  },
  {
   "cell_type": "code",
   "execution_count": 2,
   "id": "3265d5b8",
   "metadata": {},
   "outputs": [],
   "source": [
    "dep_path = 'data/condition'\n",
    "nondep_path = 'data/control'\n",
    "score_file_path = 'data/scores.csv'\n",
    "\n",
    "dep_filename = sorted(os.listdir(dep_path))\n",
    "nondep_filename = sorted(os.listdir(nondep_path))\n"
   ]
  },
  {
   "cell_type": "code",
   "execution_count": 3,
   "id": "aef6584c",
   "metadata": {},
   "outputs": [],
   "source": [
    "def read_files(path):\n",
    "    return pd.read_csv(path)\n",
    "\n",
    "scores = read_files(score_file_path)\n",
    "\n",
    "dep_files = []\n",
    "nondep_files = []\n",
    "\n",
    "for i in dep_filename:\n",
    "    dep_files.append({\"name\":i.split('.')[0],\"df\":read_files(f\"{dep_path}/{i}\")})\n",
    "    \n",
    "for i in nondep_filename:\n",
    "    nondep_files.append({\"name\":i.split('.')[0],\"df\":read_files(f\"{nondep_path}/{i}\")})"
   ]
  },
  {
   "cell_type": "code",
   "execution_count": 33,
   "id": "8be36a0d",
   "metadata": {},
   "outputs": [
    {
     "name": "stdout",
     "output_type": "stream",
     "text": [
      "0          0\n",
      "1        143\n",
      "2          0\n",
      "3         20\n",
      "4        166\n",
      "        ... \n",
      "23239      0\n",
      "23240      0\n",
      "23241      0\n",
      "23242      0\n",
      "23243    533\n",
      "Name: activity, Length: 23244, dtype: int64\n",
      "condition_1\n"
     ]
    }
   ],
   "source": [
    "print((dep_files[0][\"df\"][\"activity\"]))\n",
    "print(dep_files[0][\"name\"])"
   ]
  },
  {
   "cell_type": "code",
   "execution_count": 83,
   "id": "82fd1eb1",
   "metadata": {},
   "outputs": [
    {
     "name": "stdout",
     "output_type": "stream",
     "text": [
      "{'index': 4, 'min_loss': 1}\n"
     ]
    }
   ],
   "source": [
    "# Pattern search\n",
    "# global threshold for loss. Lower means tighter fit\n",
    "global threshold\n",
    "threshold = 100\n",
    "\n",
    "def close_match(data, pattern):\n",
    "    loss = 0\n",
    "    min_loss = threshold\n",
    "    index = -1\n",
    "    n = len(pattern)\n",
    "    i = 0\n",
    "    while (i+n-1<len(data)):\n",
    "        loss = np.sum(np.abs(np.array(data[i:i+n]) - np.array(pattern) ))\n",
    "        if loss < min_loss:\n",
    "            min_loss = loss\n",
    "            index = i\n",
    "        i = i+1\n",
    "    if min_loss < threshold:\n",
    "        return {\"index\" : index, \"min_loss\" : min_loss}\n",
    "    else:\n",
    "        return -1\n",
    "    \n",
    "a = [1, 2, 3, 4, 5, 6, 7]\n",
    "b = [5, 5, 7]\n",
    "print(close_match(a, b))\n",
    "   "
   ]
  },
  {
   "cell_type": "code",
   "execution_count": 84,
   "id": "aebd4db8",
   "metadata": {},
   "outputs": [],
   "source": [
    "# patient_type = \"all\", \"dep\", \"nondep\" \n",
    "def search_pattern_in_data(pattern, patient_type = \"all\"):\n",
    "    results = []\n",
    "    if patient_type == \"dep\" or patient_type == \"all\":\n",
    "        for patient in dep_files:\n",
    "            res = close_match(patient[\"df\"][\"activity\"], pattern)\n",
    "            if res != -1:\n",
    "                res[\"patient\"] = patient\n",
    "                results.append(res)\n",
    "    elif patient_type == \"non_dep\" or patient_type == \"all\":\n",
    "        for patient in nondep_files:\n",
    "            res = close_match(patient[\"df\"][\"activity\"], pattern)\n",
    "            if res != -1:\n",
    "                results.append(res)\n",
    "    return results\n",
    "        "
   ]
  },
  {
   "cell_type": "code",
   "execution_count": 85,
   "id": "13b941d8",
   "metadata": {},
   "outputs": [],
   "source": [
    "a= np.array(dep_files[0][\"df\"][\"activity\"])\n",
    "pattern = [  143,   0,  20, 166, 160,  17, 646, 978, 306, 200]"
   ]
  },
  {
   "cell_type": "code",
   "execution_count": 86,
   "id": "f96b4396",
   "metadata": {},
   "outputs": [
    {
     "name": "stdout",
     "output_type": "stream",
     "text": [
      "{'index': 1, 'min_loss': 77}\n"
     ]
    }
   ],
   "source": [
    "print(close_match(a, pattern))\n",
    "   "
   ]
  },
  {
   "cell_type": "code",
   "execution_count": 87,
   "id": "638c643f",
   "metadata": {},
   "outputs": [
    {
     "name": "stdout",
     "output_type": "stream",
     "text": [
      "2362\n",
      "[286 143 148 349 219 154  82 361 361 533]\n",
      "[143   0  20 166 160  17 646 978 306 200]\n",
      "[ 143  143  128  183   59  137 -564 -617   55  333]\n"
     ]
    }
   ],
   "source": [
    "print(np.sum(np.abs(a[9004:9004+len(pattern)]-np.array(pattern))))\n",
    "print(a[9004:9004+len(pattern)])\n",
    "print(np.array(pattern))\n",
    "print((a[9004:9004+len(pattern)]-np.array(pattern)))"
   ]
  },
  {
   "cell_type": "code",
   "execution_count": 88,
   "id": "201d814f",
   "metadata": {},
   "outputs": [
    {
     "data": {
      "text/plain": [
       "array([  0, 143,   0,  20, 166, 160,  17, 646, 978, 306, 277], dtype=int64)"
      ]
     },
     "execution_count": 88,
     "metadata": {},
     "output_type": "execute_result"
    }
   ],
   "source": [
    "a[0:11]"
   ]
  },
  {
   "cell_type": "code",
   "execution_count": 89,
   "id": "b64ec16d",
   "metadata": {},
   "outputs": [
    {
     "name": "stdout",
     "output_type": "stream",
     "text": [
      "{'index': 1, 'min_loss': 77, 'patient': {'name': 'condition_1', 'df':                  timestamp        date  activity\n",
      "0      2003-05-07 12:00:00  2003-05-07         0\n",
      "1      2003-05-07 12:01:00  2003-05-07       143\n",
      "2      2003-05-07 12:02:00  2003-05-07         0\n",
      "3      2003-05-07 12:03:00  2003-05-07        20\n",
      "4      2003-05-07 12:04:00  2003-05-07       166\n",
      "...                    ...         ...       ...\n",
      "23239  2003-05-23 15:19:00  2003-05-23         0\n",
      "23240  2003-05-23 15:20:00  2003-05-23         0\n",
      "23241  2003-05-23 15:21:00  2003-05-23         0\n",
      "23242  2003-05-23 15:22:00  2003-05-23         0\n",
      "23243  2003-05-23 15:23:00  2003-05-23       533\n",
      "\n",
      "[23244 rows x 3 columns]}}\n"
     ]
    }
   ],
   "source": [
    "results = search_pattern_in_data(pattern)\n",
    "best_loss = threshold\n",
    "ind = -1\n",
    "for i,r in enumerate(results):\n",
    "    if results[i][\"min_loss\"]<best_loss:\n",
    "        best_loss = results[i][\"min_loss\"]\n",
    "        ind = i\n",
    "print(results[ind])\n",
    "    "
   ]
  },
  {
   "cell_type": "code",
   "execution_count": 90,
   "id": "5e614dfc",
   "metadata": {},
   "outputs": [
    {
     "data": {
      "text/plain": [
       "[{'index': 1,\n",
       "  'min_loss': 77,\n",
       "  'patient': {'name': 'condition_1',\n",
       "   'df':                  timestamp        date  activity\n",
       "   0      2003-05-07 12:00:00  2003-05-07         0\n",
       "   1      2003-05-07 12:01:00  2003-05-07       143\n",
       "   2      2003-05-07 12:02:00  2003-05-07         0\n",
       "   3      2003-05-07 12:03:00  2003-05-07        20\n",
       "   4      2003-05-07 12:04:00  2003-05-07       166\n",
       "   ...                    ...         ...       ...\n",
       "   23239  2003-05-23 15:19:00  2003-05-23         0\n",
       "   23240  2003-05-23 15:20:00  2003-05-23         0\n",
       "   23241  2003-05-23 15:21:00  2003-05-23         0\n",
       "   23242  2003-05-23 15:22:00  2003-05-23         0\n",
       "   23243  2003-05-23 15:23:00  2003-05-23       533\n",
       "   \n",
       "   [23244 rows x 3 columns]}}]"
      ]
     },
     "execution_count": 90,
     "metadata": {},
     "output_type": "execute_result"
    }
   ],
   "source": [
    "def find_best_n_matches(results, n):\n",
    "    newlist = sorted(results, key=lambda d: d['min_loss'])\n",
    "    \n",
    "    return newlist[:n]\n",
    "\n",
    "find_best_n_matches(results,3)"
   ]
  },
  {
   "cell_type": "code",
   "execution_count": 69,
   "id": "463aa3d8",
   "metadata": {},
   "outputs": [
    {
     "name": "stdout",
     "output_type": "stream",
     "text": [
      "0      0\n",
      "1    143\n",
      "2      0\n",
      "3     20\n",
      "4    166\n",
      "5    160\n",
      "6     17\n",
      "7    646\n",
      "8    978\n",
      "9    306\n",
      "Name: activity, dtype: int64\n",
      "6590     0\n",
      "6591     0\n",
      "6592     0\n",
      "6593     0\n",
      "6594     0\n",
      "6595     0\n",
      "6596     0\n",
      "6597     0\n",
      "6598    54\n",
      "6599     0\n",
      "Name: activity, dtype: int64\n",
      "14284    624\n",
      "14285    116\n",
      "14286    306\n",
      "14287     19\n",
      "14288     50\n",
      "14289    234\n",
      "14290    125\n",
      "14291    360\n",
      "14292    296\n",
      "14293    160\n",
      "Name: activity, dtype: int64\n"
     ]
    }
   ],
   "source": [
    "print((dep_files[0][\"df\"][\"activity\"])[0:10])\n",
    "print((dep_files[10][\"df\"][\"activity\"])[6590:6600])\n",
    "print((dep_files[11][\"df\"][\"activity\"])[14284:14294])"
   ]
  },
  {
   "cell_type": "code",
   "execution_count": null,
   "id": "8375660e",
   "metadata": {},
   "outputs": [],
   "source": []
  }
 ],
 "metadata": {
  "kernelspec": {
   "display_name": "Python 3 (ipykernel)",
   "language": "python",
   "name": "python3"
  },
  "language_info": {
   "codemirror_mode": {
    "name": "ipython",
    "version": 3
   },
   "file_extension": ".py",
   "mimetype": "text/x-python",
   "name": "python",
   "nbconvert_exporter": "python",
   "pygments_lexer": "ipython3",
   "version": "3.9.13"
  }
 },
 "nbformat": 4,
 "nbformat_minor": 5
}
